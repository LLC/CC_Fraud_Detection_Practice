{
 "cells": [
  {
   "cell_type": "code",
   "execution_count": 81,
   "metadata": {
    "collapsed": true
   },
   "outputs": [],
   "source": [
    "import lightgbm as lgb\n",
    "\n",
    "import pandas as pd\n",
    "import numpy as np\n",
    "\n",
    "from sklearn.linear_model import LogisticRegression\n",
    "from sklearn.metrics import f1_score"
   ]
  },
  {
   "cell_type": "code",
   "execution_count": 82,
   "metadata": {},
   "outputs": [],
   "source": [
    "df_train = pd.read_csv('train.csv')"
   ]
  },
  {
   "cell_type": "code",
   "execution_count": 83,
   "metadata": {},
   "outputs": [
    {
     "data": {
      "text/html": [
       "<div>\n",
       "<style scoped>\n",
       "    .dataframe tbody tr th:only-of-type {\n",
       "        vertical-align: middle;\n",
       "    }\n",
       "\n",
       "    .dataframe tbody tr th {\n",
       "        vertical-align: top;\n",
       "    }\n",
       "\n",
       "    .dataframe thead th {\n",
       "        text-align: right;\n",
       "    }\n",
       "</style>\n",
       "<table border=\"1\" class=\"dataframe\">\n",
       "  <thead>\n",
       "    <tr style=\"text-align: right;\">\n",
       "      <th></th>\n",
       "      <th>TXKEY</th>\n",
       "      <th>Time</th>\n",
       "      <th>V1</th>\n",
       "      <th>V2</th>\n",
       "      <th>V3</th>\n",
       "      <th>V4</th>\n",
       "      <th>V5</th>\n",
       "      <th>V6</th>\n",
       "      <th>V7</th>\n",
       "      <th>V8</th>\n",
       "      <th>...</th>\n",
       "      <th>V21</th>\n",
       "      <th>V22</th>\n",
       "      <th>V23</th>\n",
       "      <th>V24</th>\n",
       "      <th>V25</th>\n",
       "      <th>V26</th>\n",
       "      <th>V27</th>\n",
       "      <th>V28</th>\n",
       "      <th>Amount</th>\n",
       "      <th>Class</th>\n",
       "    </tr>\n",
       "  </thead>\n",
       "  <tbody>\n",
       "    <tr>\n",
       "      <th>0</th>\n",
       "      <td>T43428</td>\n",
       "      <td>41505.0</td>\n",
       "      <td>-16.526507</td>\n",
       "      <td>8.584972</td>\n",
       "      <td>-18.649853</td>\n",
       "      <td>9.505594</td>\n",
       "      <td>-13.793819</td>\n",
       "      <td>-2.832404</td>\n",
       "      <td>-16.701694</td>\n",
       "      <td>7.517344</td>\n",
       "      <td>...</td>\n",
       "      <td>1.190739</td>\n",
       "      <td>-1.127670</td>\n",
       "      <td>-2.358579</td>\n",
       "      <td>0.673461</td>\n",
       "      <td>-1.413700</td>\n",
       "      <td>-0.462762</td>\n",
       "      <td>-2.018575</td>\n",
       "      <td>-1.042804</td>\n",
       "      <td>364.19</td>\n",
       "      <td>1</td>\n",
       "    </tr>\n",
       "    <tr>\n",
       "      <th>1</th>\n",
       "      <td>T49906</td>\n",
       "      <td>44261.0</td>\n",
       "      <td>0.339812</td>\n",
       "      <td>-2.743745</td>\n",
       "      <td>-0.134070</td>\n",
       "      <td>-1.385729</td>\n",
       "      <td>-1.451413</td>\n",
       "      <td>1.015887</td>\n",
       "      <td>-0.524379</td>\n",
       "      <td>0.224060</td>\n",
       "      <td>...</td>\n",
       "      <td>-0.213436</td>\n",
       "      <td>-0.942525</td>\n",
       "      <td>-0.526819</td>\n",
       "      <td>-1.156992</td>\n",
       "      <td>0.311211</td>\n",
       "      <td>-0.746647</td>\n",
       "      <td>0.040996</td>\n",
       "      <td>0.102038</td>\n",
       "      <td>520.12</td>\n",
       "      <td>0</td>\n",
       "    </tr>\n",
       "    <tr>\n",
       "      <th>2</th>\n",
       "      <td>T29474</td>\n",
       "      <td>35484.0</td>\n",
       "      <td>1.399590</td>\n",
       "      <td>-0.590701</td>\n",
       "      <td>0.168619</td>\n",
       "      <td>-1.029950</td>\n",
       "      <td>-0.539806</td>\n",
       "      <td>0.040444</td>\n",
       "      <td>-0.712567</td>\n",
       "      <td>0.002299</td>\n",
       "      <td>...</td>\n",
       "      <td>0.102398</td>\n",
       "      <td>0.168269</td>\n",
       "      <td>-0.166639</td>\n",
       "      <td>-0.810250</td>\n",
       "      <td>0.505083</td>\n",
       "      <td>-0.232340</td>\n",
       "      <td>0.011409</td>\n",
       "      <td>0.004634</td>\n",
       "      <td>31.00</td>\n",
       "      <td>0</td>\n",
       "    </tr>\n",
       "    <tr>\n",
       "      <th>3</th>\n",
       "      <td>T276481</td>\n",
       "      <td>167123.0</td>\n",
       "      <td>-0.432071</td>\n",
       "      <td>1.647895</td>\n",
       "      <td>-1.669361</td>\n",
       "      <td>-0.349504</td>\n",
       "      <td>0.785785</td>\n",
       "      <td>-0.630647</td>\n",
       "      <td>0.276990</td>\n",
       "      <td>0.586025</td>\n",
       "      <td>...</td>\n",
       "      <td>0.358932</td>\n",
       "      <td>0.873663</td>\n",
       "      <td>-0.178642</td>\n",
       "      <td>-0.017171</td>\n",
       "      <td>-0.207392</td>\n",
       "      <td>-0.157756</td>\n",
       "      <td>-0.237386</td>\n",
       "      <td>0.001934</td>\n",
       "      <td>1.50</td>\n",
       "      <td>0</td>\n",
       "    </tr>\n",
       "    <tr>\n",
       "      <th>4</th>\n",
       "      <td>T278846</td>\n",
       "      <td>168473.0</td>\n",
       "      <td>2.014160</td>\n",
       "      <td>-0.137394</td>\n",
       "      <td>-1.015839</td>\n",
       "      <td>0.327269</td>\n",
       "      <td>-0.182179</td>\n",
       "      <td>-0.956571</td>\n",
       "      <td>0.043241</td>\n",
       "      <td>-0.160746</td>\n",
       "      <td>...</td>\n",
       "      <td>-0.238644</td>\n",
       "      <td>-0.616400</td>\n",
       "      <td>0.347045</td>\n",
       "      <td>0.061561</td>\n",
       "      <td>-0.360196</td>\n",
       "      <td>0.174730</td>\n",
       "      <td>-0.078043</td>\n",
       "      <td>-0.070571</td>\n",
       "      <td>0.89</td>\n",
       "      <td>0</td>\n",
       "    </tr>\n",
       "  </tbody>\n",
       "</table>\n",
       "<p>5 rows × 32 columns</p>\n",
       "</div>"
      ],
      "text/plain": [
       "     TXKEY      Time         V1        V2         V3        V4         V5  \\\n",
       "0   T43428   41505.0 -16.526507  8.584972 -18.649853  9.505594 -13.793819   \n",
       "1   T49906   44261.0   0.339812 -2.743745  -0.134070 -1.385729  -1.451413   \n",
       "2   T29474   35484.0   1.399590 -0.590701   0.168619 -1.029950  -0.539806   \n",
       "3  T276481  167123.0  -0.432071  1.647895  -1.669361 -0.349504   0.785785   \n",
       "4  T278846  168473.0   2.014160 -0.137394  -1.015839  0.327269  -0.182179   \n",
       "\n",
       "         V6         V7        V8  ...         V21       V22       V23  \\\n",
       "0 -2.832404 -16.701694  7.517344  ...    1.190739 -1.127670 -2.358579   \n",
       "1  1.015887  -0.524379  0.224060  ...   -0.213436 -0.942525 -0.526819   \n",
       "2  0.040444  -0.712567  0.002299  ...    0.102398  0.168269 -0.166639   \n",
       "3 -0.630647   0.276990  0.586025  ...    0.358932  0.873663 -0.178642   \n",
       "4 -0.956571   0.043241 -0.160746  ...   -0.238644 -0.616400  0.347045   \n",
       "\n",
       "        V24       V25       V26       V27       V28  Amount  Class  \n",
       "0  0.673461 -1.413700 -0.462762 -2.018575 -1.042804  364.19      1  \n",
       "1 -1.156992  0.311211 -0.746647  0.040996  0.102038  520.12      0  \n",
       "2 -0.810250  0.505083 -0.232340  0.011409  0.004634   31.00      0  \n",
       "3 -0.017171 -0.207392 -0.157756 -0.237386  0.001934    1.50      0  \n",
       "4  0.061561 -0.360196  0.174730 -0.078043 -0.070571    0.89      0  \n",
       "\n",
       "[5 rows x 32 columns]"
      ]
     },
     "execution_count": 83,
     "metadata": {},
     "output_type": "execute_result"
    }
   ],
   "source": [
    "df_train.head()"
   ]
  },
  {
   "cell_type": "code",
   "execution_count": 84,
   "metadata": {
    "collapsed": true
   },
   "outputs": [],
   "source": [
    "x = df_train.drop(['TXKEY','Class'],axis=1)\n",
    "y = df_train['Class']"
   ]
  },
  {
   "cell_type": "code",
   "execution_count": 85,
   "metadata": {
    "collapsed": true
   },
   "outputs": [],
   "source": [
    "from sklearn.model_selection import train_test_split\n",
    "X_train, X_val, y_train, y_val = train_test_split(x, y, test_size=0.33, random_state=42)"
   ]
  },
  {
   "cell_type": "code",
   "execution_count": 86,
   "metadata": {
    "collapsed": true
   },
   "outputs": [],
   "source": [
    "# create dataset for lightgbm\n",
    "lgb_train = lgb.Dataset(X_train, y_train)\n",
    "lgb_val = lgb.Dataset(X_val, y_val, reference=lgb_train)"
   ]
  },
  {
   "cell_type": "code",
   "execution_count": 87,
   "metadata": {},
   "outputs": [],
   "source": [
    "params = {\n",
    "    'task': 'train',\n",
    "    'boosting_type': 'gbdt',\n",
    "    'objective': 'binary',\n",
    "    'metric': {'binary_logloss'},\n",
    "    'num_leaves': 64,\n",
    "    'num_trees': 100,\n",
    "    'learning_rate': 0.01,\n",
    "    'feature_fraction': 0.9,\n",
    "    'bagging_fraction': 0.8,\n",
    "    'bagging_freq': 5,\n",
    "    'verbose': 0\n",
    "}"
   ]
  },
  {
   "cell_type": "code",
   "execution_count": 88,
   "metadata": {
    "collapsed": true
   },
   "outputs": [],
   "source": [
    "# number of leaves,will be used in feature transformation\n",
    "num_leaf = 64"
   ]
  },
  {
   "cell_type": "code",
   "execution_count": 89,
   "metadata": {},
   "outputs": [
    {
     "name": "stdout",
     "output_type": "stream",
     "text": [
      "Start training...\n"
     ]
    },
    {
     "name": "stderr",
     "output_type": "stream",
     "text": [
      "/Users/llc/anaconda2/envs/python3/lib/python3.6/site-packages/lightgbm/engine.py:102: UserWarning: Found `num_trees` in params. Will use it instead of argument\n",
      "  warnings.warn(\"Found `{}` in params. Will use it instead of argument\".format(alias))\n"
     ]
    },
    {
     "name": "stdout",
     "output_type": "stream",
     "text": [
      "[1]\ttraining's binary_logloss: 0.00625827\n",
      "[2]\ttraining's binary_logloss: 0.0060161\n",
      "[3]\ttraining's binary_logloss: 0.00582705\n",
      "[4]\ttraining's binary_logloss: 0.00564377\n",
      "[5]\ttraining's binary_logloss: 0.0054866\n",
      "[6]\ttraining's binary_logloss: 0.00533254\n",
      "[7]\ttraining's binary_logloss: 0.00520926\n",
      "[8]\ttraining's binary_logloss: 0.00509753\n",
      "[9]\ttraining's binary_logloss: 0.0049962\n",
      "[10]\ttraining's binary_logloss: 0.00490579\n",
      "[11]\ttraining's binary_logloss: 0.00478799\n",
      "[12]\ttraining's binary_logloss: 0.00468698\n",
      "[13]\ttraining's binary_logloss: 0.00459341\n",
      "[14]\ttraining's binary_logloss: 0.00450223\n",
      "[15]\ttraining's binary_logloss: 0.00441051\n",
      "[16]\ttraining's binary_logloss: 0.0043233\n",
      "[17]\ttraining's binary_logloss: 0.00424554\n",
      "[18]\ttraining's binary_logloss: 0.00416223\n",
      "[19]\ttraining's binary_logloss: 0.00408707\n",
      "[20]\ttraining's binary_logloss: 0.00401627\n",
      "[21]\ttraining's binary_logloss: 0.0039477\n",
      "[22]\ttraining's binary_logloss: 0.00388377\n",
      "[23]\ttraining's binary_logloss: 0.00382269\n",
      "[24]\ttraining's binary_logloss: 0.00376204\n",
      "[25]\ttraining's binary_logloss: 0.00370591\n",
      "[26]\ttraining's binary_logloss: 0.00364846\n",
      "[27]\ttraining's binary_logloss: 0.003594\n",
      "[28]\ttraining's binary_logloss: 0.00354062\n",
      "[29]\ttraining's binary_logloss: 0.00348918\n",
      "[30]\ttraining's binary_logloss: 0.00343956\n",
      "[31]\ttraining's binary_logloss: 0.00339005\n",
      "[32]\ttraining's binary_logloss: 0.00334385\n",
      "[33]\ttraining's binary_logloss: 0.0032995\n",
      "[34]\ttraining's binary_logloss: 0.00325557\n",
      "[35]\ttraining's binary_logloss: 0.00321283\n",
      "[36]\ttraining's binary_logloss: 0.00316897\n",
      "[37]\ttraining's binary_logloss: 0.00312566\n",
      "[38]\ttraining's binary_logloss: 0.00308412\n",
      "[39]\ttraining's binary_logloss: 0.00304395\n",
      "[40]\ttraining's binary_logloss: 0.0030047\n",
      "[41]\ttraining's binary_logloss: 0.00296737\n",
      "[42]\ttraining's binary_logloss: 0.00292983\n",
      "[43]\ttraining's binary_logloss: 0.0028938\n",
      "[44]\ttraining's binary_logloss: 0.00285898\n",
      "[45]\ttraining's binary_logloss: 0.00282527\n",
      "[46]\ttraining's binary_logloss: 0.00278717\n",
      "[47]\ttraining's binary_logloss: 0.00275084\n",
      "[48]\ttraining's binary_logloss: 0.00271492\n",
      "[49]\ttraining's binary_logloss: 0.00268106\n",
      "[50]\ttraining's binary_logloss: 0.0026479\n",
      "[51]\ttraining's binary_logloss: 0.00261621\n",
      "[52]\ttraining's binary_logloss: 0.00258523\n",
      "[53]\ttraining's binary_logloss: 0.00255492\n",
      "[54]\ttraining's binary_logloss: 0.00252514\n",
      "[55]\ttraining's binary_logloss: 0.00249619\n",
      "[56]\ttraining's binary_logloss: 0.00246632\n",
      "[57]\ttraining's binary_logloss: 0.0024381\n",
      "[58]\ttraining's binary_logloss: 0.00240919\n",
      "[59]\ttraining's binary_logloss: 0.00238222\n",
      "[60]\ttraining's binary_logloss: 0.00235567\n",
      "[61]\ttraining's binary_logloss: 0.00232944\n",
      "[62]\ttraining's binary_logloss: 0.00230441\n",
      "[63]\ttraining's binary_logloss: 0.00227964\n",
      "[64]\ttraining's binary_logloss: 0.00225461\n",
      "[65]\ttraining's binary_logloss: 0.00223056\n",
      "[66]\ttraining's binary_logloss: 0.00220425\n",
      "[67]\ttraining's binary_logloss: 0.00217853\n",
      "[68]\ttraining's binary_logloss: 0.00215267\n",
      "[69]\ttraining's binary_logloss: 0.00212821\n",
      "[70]\ttraining's binary_logloss: 0.00210264\n",
      "[71]\ttraining's binary_logloss: 0.0020803\n",
      "[72]\ttraining's binary_logloss: 0.00205833\n",
      "[73]\ttraining's binary_logloss: 0.00203699\n",
      "[74]\ttraining's binary_logloss: 0.00201568\n",
      "[75]\ttraining's binary_logloss: 0.00199566\n",
      "[76]\ttraining's binary_logloss: 0.00197328\n",
      "[77]\ttraining's binary_logloss: 0.00195131\n",
      "[78]\ttraining's binary_logloss: 0.00192936\n",
      "[79]\ttraining's binary_logloss: 0.00190793\n",
      "[80]\ttraining's binary_logloss: 0.00188649\n",
      "[81]\ttraining's binary_logloss: 0.00186816\n",
      "[82]\ttraining's binary_logloss: 0.00185022\n",
      "[83]\ttraining's binary_logloss: 0.00183235\n",
      "[84]\ttraining's binary_logloss: 0.00181476\n",
      "[85]\ttraining's binary_logloss: 0.00179719\n",
      "[86]\ttraining's binary_logloss: 0.00177833\n",
      "[87]\ttraining's binary_logloss: 0.00175872\n",
      "[88]\ttraining's binary_logloss: 0.00174038\n",
      "[89]\ttraining's binary_logloss: 0.00172262\n",
      "[90]\ttraining's binary_logloss: 0.00170487\n",
      "[91]\ttraining's binary_logloss: 0.00168774\n",
      "[92]\ttraining's binary_logloss: 0.00167095\n",
      "[93]\ttraining's binary_logloss: 0.00165333\n",
      "[94]\ttraining's binary_logloss: 0.00163622\n",
      "[95]\ttraining's binary_logloss: 0.00161891\n",
      "[96]\ttraining's binary_logloss: 0.00160111\n",
      "[97]\ttraining's binary_logloss: 0.00158312\n",
      "[98]\ttraining's binary_logloss: 0.00156555\n",
      "[99]\ttraining's binary_logloss: 0.00154824\n",
      "[100]\ttraining's binary_logloss: 0.00153136\n",
      "Save model...\n"
     ]
    }
   ],
   "source": [
    "print('Start training...')\n",
    "# train\n",
    "gbm = lgb.train(params,\n",
    "                lgb_train,\n",
    "                num_boost_round=100,\n",
    "                valid_sets=lgb_train)\n",
    "\n",
    "print('Save model...')\n",
    "# save model to file\n",
    "gbm.save_model('model.txt')"
   ]
  },
  {
   "cell_type": "code",
   "execution_count": 90,
   "metadata": {},
   "outputs": [
    {
     "name": "stdout",
     "output_type": "stream",
     "text": [
      "Start predicting...\n",
      "(133573, 100)\n",
      "[[58  5 43 50 33 55 54 31 55 51 55 56 56 53 49 48 48 39 42 52 44 42 41 61\n",
      "  62 58 56 59 58 54 50 46 45 50 49 47 48 51 43 35 59 54 50 63 47 60 45 59\n",
      "  60 53 31 63 57 62 29 40  6  1  1 30 42 44 51 44 43  1 49 57 60  1 31 29\n",
      "  30 42 26 48 29 11 57 53 33 30 30 29 30 58 62 54 44 53 49 63 45 44 56 62\n",
      "  43 59 40 41]\n",
      " [58 34 56 58 47 55 54 54 55 51 55 55 56 59 49 38 38 54 56 52 44 42 41 58\n",
      "  62 62 60 58 62 57 50 45 45 49 49 47 48 51 43 46 54 50 61 46 43 60 45 59\n",
      "  60 53 57 60 54 53 56 58  6 54 53 30 42 44 45 44 43 62 49 57 50 18 61 58\n",
      "  58 63 55 48 29 11 57 53 33 30 30 29 30 58 51 54 44 53 49 63 62 61 56 62\n",
      "  43 59 40 41]\n",
      " [21 34 56 58 18 55 54 54 55 51 56 55 57 27 55 38 38 54 56  2 44 42 41 58\n",
      "  23 62 61 58 62 57 59 45  5 49 19 34 37 34 35 46 54 50 61 46 43 60 45 59\n",
      "  60 53 57 60 54 53 56 58  1 54 53  2 40 44 59 39 40 62 36  3 60 18 59  6\n",
      "   6 13  6 17 16  1 57  1  2 54  2  2  2 58 51 54 44 53  9 37 62 61 56  1\n",
      "   1  1  1  1]]\n"
     ]
    }
   ],
   "source": [
    "print('Start predicting...')\n",
    "# predict and get data on leaves, training data\n",
    "y_pred = gbm.predict(X_train, pred_leaf=True)\n",
    "\n",
    "print(np.array(y_pred).shape)\n",
    "print(y_pred[:3])"
   ]
  },
  {
   "cell_type": "code",
   "execution_count": 91,
   "metadata": {},
   "outputs": [
    {
     "name": "stdout",
     "output_type": "stream",
     "text": [
      "Writing transformed training data\n"
     ]
    }
   ],
   "source": [
    "print('Writing transformed training data')\n",
    "transformed_training_matrix = np.zeros([len(y_pred), len(y_pred[0]) * num_leaf],\n",
    "                                       dtype=np.int64)  # N * num_tress * num_leafs"
   ]
  },
  {
   "cell_type": "code",
   "execution_count": 92,
   "metadata": {},
   "outputs": [],
   "source": [
    "for i in range(0, len(y_pred)):\n",
    "    temp = np.arange(len(y_pred[0])) * num_leaf + np.array(y_pred[i])\n",
    "    transformed_training_matrix[i][temp] += 1"
   ]
  },
  {
   "cell_type": "code",
   "execution_count": 94,
   "metadata": {},
   "outputs": [
    {
     "name": "stdout",
     "output_type": "stream",
     "text": [
      "Writing transformed validating data\n"
     ]
    }
   ],
   "source": [
    "y_pred = gbm.predict(X_val, pred_leaf=True)\n",
    "print('Writing transformed validating data')\n",
    "transformed_validating_matrix = np.zeros([len(y_pred), len(y_pred[0]) * num_leaf], dtype=np.int64)\n",
    "for i in range(0, len(y_pred)):\n",
    "    temp = np.arange(len(y_pred[0])) * num_leaf + np.array(y_pred[i])\n",
    "    transformed_validating_matrix[i][temp] += 1"
   ]
  },
  {
   "cell_type": "code",
   "execution_count": 95,
   "metadata": {},
   "outputs": [],
   "source": [
    "lr = LogisticRegression(penalty='l2',C=0.05) # logistic model construction\n",
    "lr.fit(transformed_training_matrix,y_train)  # fitting the data\n",
    "y_pred_val = lr.predict(transformed_validating_matrix)   # Give the probabilty on each label"
   ]
  },
  {
   "cell_type": "code",
   "execution_count": 96,
   "metadata": {},
   "outputs": [
    {
     "data": {
      "text/plain": [
       "array([0.99979451, 0.85714286])"
      ]
     },
     "execution_count": 96,
     "metadata": {},
     "output_type": "execute_result"
    }
   ],
   "source": [
    "f1_score(y_val,y_pred_val,average=None)"
   ]
  },
  {
   "cell_type": "markdown",
   "metadata": {},
   "source": [
    "## 把Train和Val資料合在一起建模 "
   ]
  },
  {
   "cell_type": "code",
   "execution_count": 106,
   "metadata": {
    "collapsed": true
   },
   "outputs": [],
   "source": [
    "# create dataset for lightgbm\n",
    "lgb_train = lgb.Dataset(x,y)"
   ]
  },
  {
   "cell_type": "code",
   "execution_count": 107,
   "metadata": {},
   "outputs": [
    {
     "name": "stdout",
     "output_type": "stream",
     "text": [
      "Start predicting...\n"
     ]
    }
   ],
   "source": [
    "print('Start predicting...')\n",
    "# predict and get data on leaves, training data\n",
    "y_pred = gbm.predict(x, pred_leaf=True)"
   ]
  },
  {
   "cell_type": "code",
   "execution_count": 108,
   "metadata": {},
   "outputs": [
    {
     "name": "stdout",
     "output_type": "stream",
     "text": [
      "Writing transformed training data\n"
     ]
    }
   ],
   "source": [
    "print('Writing transformed training data')\n",
    "transformed_training_matrix = np.zeros([len(y_pred), len(y_pred[0]) * num_leaf],\n",
    "                                       dtype=np.int64)  # N * num_tress * num_leafs"
   ]
  },
  {
   "cell_type": "code",
   "execution_count": 109,
   "metadata": {
    "collapsed": true
   },
   "outputs": [],
   "source": [
    "for i in range(0, len(y_pred)):\n",
    "    temp = np.arange(len(y_pred[0])) * num_leaf + np.array(y_pred[i])\n",
    "    transformed_training_matrix[i][temp] += 1"
   ]
  },
  {
   "cell_type": "code",
   "execution_count": 111,
   "metadata": {},
   "outputs": [
    {
     "data": {
      "text/plain": [
       "LogisticRegression(C=0.05, class_weight=None, dual=False, fit_intercept=True,\n",
       "          intercept_scaling=1, max_iter=100, multi_class='ovr', n_jobs=1,\n",
       "          penalty='l2', random_state=None, solver='liblinear', tol=0.0001,\n",
       "          verbose=0, warm_start=False)"
      ]
     },
     "execution_count": 111,
     "metadata": {},
     "output_type": "execute_result"
    }
   ],
   "source": [
    "lr = LogisticRegression(penalty='l2',C=0.05) # logistic model construction\n",
    "lr.fit(transformed_training_matrix,y)  # fitting the data"
   ]
  },
  {
   "cell_type": "code",
   "execution_count": 113,
   "metadata": {},
   "outputs": [
    {
     "data": {
      "text/plain": [
       "array([0.99993217, 0.95839753])"
      ]
     },
     "execution_count": 113,
     "metadata": {},
     "output_type": "execute_result"
    }
   ],
   "source": [
    "y_pred_train = lr.predict(transformed_training_matrix)   # Give the probabilty on each label\n",
    "f1_score(y,y_pred_train,average=None)"
   ]
  },
  {
   "cell_type": "markdown",
   "metadata": {},
   "source": [
    "## 測試資料"
   ]
  },
  {
   "cell_type": "code",
   "execution_count": 114,
   "metadata": {
    "collapsed": true
   },
   "outputs": [],
   "source": [
    "df_test = pd.read_csv('test_public.csv')"
   ]
  },
  {
   "cell_type": "code",
   "execution_count": 115,
   "metadata": {},
   "outputs": [
    {
     "data": {
      "text/plain": [
       "array(['T2', 'T5', 'T7', ..., 'T284797', 'T284800', 'T284802'],\n",
       "      dtype=object)"
      ]
     },
     "execution_count": 115,
     "metadata": {},
     "output_type": "execute_result"
    }
   ],
   "source": [
    "TXKEY =np.array(df_test[\"TXKEY\"])\n",
    "TXKEY"
   ]
  },
  {
   "cell_type": "code",
   "execution_count": 116,
   "metadata": {
    "collapsed": true
   },
   "outputs": [],
   "source": [
    "X_test = df_test.drop(['TXKEY'],axis=1)"
   ]
  },
  {
   "cell_type": "code",
   "execution_count": 117,
   "metadata": {},
   "outputs": [
    {
     "name": "stdout",
     "output_type": "stream",
     "text": [
      "(85443, 100)\n",
      "[[21 34 57 59 18 44 47 54 44 60 55 55 56 27 47 38 38 55 57  2 44 42 41 51\n",
      "  23 29 42 45 55 49 59 45 54 49 41 41 44 41 44 46 54 48 61 46 44 48 43 47\n",
      "  58 59 57 60 54 53 56 58 37 54 53  2 40 45 59 39 40 62 50 18 25 18 59  6\n",
      "   6 13  6 45 56 48 46 33 33 30 30 29 30 42 51 36 39 36 22 62 62 61  8 39\n",
      "  43 44 41 41]\n",
      " [58 34 56 58 47 55 54 54 55 51 55 55 56 59 49 38 38 54 56 52 44 42 41 58\n",
      "  62 62 60 58 62 57 50 45 45 49 49 47 48 51 43 46 54 50 61 46 43 60 45 59\n",
      "  60 53 57 60 54 53 56 58  6 54 53 30 42 44 45 44 43 62 49 57 60 18 61 58\n",
      "  58 63 55 48 29 11 57 53 33 30 30 29 30 58 51 54 44 53 49 63 62 61 56 62\n",
      "  43 59 40 41]\n",
      " [42  5 43 62 38 55 36 31  6  5 39 34 33 37 49 48 48 26 30 52 60 58 57 56\n",
      "  62  2 40 43  2  2 37 46 45 50 50 47 48 45 43 35 62 50  1  1 43 60 45 59\n",
      "  60 53 31 63 57 62 29 40  6 17 16 30 55 55  8 34 57 13 49  9 60 11 17 15\n",
      "  15 42 14 48 29 11 27 15 33 30 30 29 30 58  6 54 16 53 49 63 23 17 56 38\n",
      "   8 43 40  8]]\n"
     ]
    }
   ],
   "source": [
    "y_pred = gbm.predict(X_test, pred_leaf=True)\n",
    "\n",
    "print(np.array(y_pred).shape)\n",
    "print(y_pred[:3])"
   ]
  },
  {
   "cell_type": "code",
   "execution_count": 118,
   "metadata": {
    "collapsed": true
   },
   "outputs": [],
   "source": [
    "transformed_testing_matrix = np.zeros([len(y_pred), len(y_pred[0]) * num_leaf], dtype=np.int64)\n",
    "for i in range(0, len(y_pred)):\n",
    "    temp = np.arange(len(y_pred[0])) * num_leaf + np.array(y_pred[i])\n",
    "    transformed_testing_matrix[i][temp] += 1"
   ]
  },
  {
   "cell_type": "code",
   "execution_count": 119,
   "metadata": {
    "collapsed": true
   },
   "outputs": [],
   "source": [
    "y_pred_test = lr.predict(transformed_testing_matrix)   # Give the probabilty on each label"
   ]
  },
  {
   "cell_type": "code",
   "execution_count": 120,
   "metadata": {},
   "outputs": [
    {
     "data": {
      "text/html": [
       "<div>\n",
       "<style scoped>\n",
       "    .dataframe tbody tr th:only-of-type {\n",
       "        vertical-align: middle;\n",
       "    }\n",
       "\n",
       "    .dataframe tbody tr th {\n",
       "        vertical-align: top;\n",
       "    }\n",
       "\n",
       "    .dataframe thead th {\n",
       "        text-align: right;\n",
       "    }\n",
       "</style>\n",
       "<table border=\"1\" class=\"dataframe\">\n",
       "  <thead>\n",
       "    <tr style=\"text-align: right;\">\n",
       "      <th></th>\n",
       "      <th>Class</th>\n",
       "    </tr>\n",
       "  </thead>\n",
       "  <tbody>\n",
       "    <tr>\n",
       "      <th>T2</th>\n",
       "      <td>0</td>\n",
       "    </tr>\n",
       "    <tr>\n",
       "      <th>T5</th>\n",
       "      <td>0</td>\n",
       "    </tr>\n",
       "    <tr>\n",
       "      <th>T7</th>\n",
       "      <td>0</td>\n",
       "    </tr>\n",
       "    <tr>\n",
       "      <th>T9</th>\n",
       "      <td>0</td>\n",
       "    </tr>\n",
       "    <tr>\n",
       "      <th>T10</th>\n",
       "      <td>0</td>\n",
       "    </tr>\n",
       "    <tr>\n",
       "      <th>T13</th>\n",
       "      <td>0</td>\n",
       "    </tr>\n",
       "    <tr>\n",
       "      <th>T15</th>\n",
       "      <td>0</td>\n",
       "    </tr>\n",
       "    <tr>\n",
       "      <th>T17</th>\n",
       "      <td>0</td>\n",
       "    </tr>\n",
       "    <tr>\n",
       "      <th>T18</th>\n",
       "      <td>0</td>\n",
       "    </tr>\n",
       "    <tr>\n",
       "      <th>T19</th>\n",
       "      <td>0</td>\n",
       "    </tr>\n",
       "    <tr>\n",
       "      <th>T27</th>\n",
       "      <td>0</td>\n",
       "    </tr>\n",
       "    <tr>\n",
       "      <th>T32</th>\n",
       "      <td>0</td>\n",
       "    </tr>\n",
       "    <tr>\n",
       "      <th>T36</th>\n",
       "      <td>0</td>\n",
       "    </tr>\n",
       "    <tr>\n",
       "      <th>T37</th>\n",
       "      <td>0</td>\n",
       "    </tr>\n",
       "    <tr>\n",
       "      <th>T40</th>\n",
       "      <td>0</td>\n",
       "    </tr>\n",
       "    <tr>\n",
       "      <th>T43</th>\n",
       "      <td>0</td>\n",
       "    </tr>\n",
       "    <tr>\n",
       "      <th>T45</th>\n",
       "      <td>0</td>\n",
       "    </tr>\n",
       "    <tr>\n",
       "      <th>T46</th>\n",
       "      <td>0</td>\n",
       "    </tr>\n",
       "    <tr>\n",
       "      <th>T47</th>\n",
       "      <td>0</td>\n",
       "    </tr>\n",
       "    <tr>\n",
       "      <th>T50</th>\n",
       "      <td>0</td>\n",
       "    </tr>\n",
       "    <tr>\n",
       "      <th>T51</th>\n",
       "      <td>0</td>\n",
       "    </tr>\n",
       "    <tr>\n",
       "      <th>T56</th>\n",
       "      <td>0</td>\n",
       "    </tr>\n",
       "    <tr>\n",
       "      <th>T59</th>\n",
       "      <td>0</td>\n",
       "    </tr>\n",
       "    <tr>\n",
       "      <th>T64</th>\n",
       "      <td>0</td>\n",
       "    </tr>\n",
       "    <tr>\n",
       "      <th>T66</th>\n",
       "      <td>0</td>\n",
       "    </tr>\n",
       "    <tr>\n",
       "      <th>T67</th>\n",
       "      <td>0</td>\n",
       "    </tr>\n",
       "    <tr>\n",
       "      <th>T68</th>\n",
       "      <td>0</td>\n",
       "    </tr>\n",
       "    <tr>\n",
       "      <th>T69</th>\n",
       "      <td>0</td>\n",
       "    </tr>\n",
       "    <tr>\n",
       "      <th>T71</th>\n",
       "      <td>0</td>\n",
       "    </tr>\n",
       "    <tr>\n",
       "      <th>T72</th>\n",
       "      <td>0</td>\n",
       "    </tr>\n",
       "    <tr>\n",
       "      <th>...</th>\n",
       "      <td>...</td>\n",
       "    </tr>\n",
       "    <tr>\n",
       "      <th>T284703</th>\n",
       "      <td>0</td>\n",
       "    </tr>\n",
       "    <tr>\n",
       "      <th>T284704</th>\n",
       "      <td>0</td>\n",
       "    </tr>\n",
       "    <tr>\n",
       "      <th>T284706</th>\n",
       "      <td>0</td>\n",
       "    </tr>\n",
       "    <tr>\n",
       "      <th>T284721</th>\n",
       "      <td>0</td>\n",
       "    </tr>\n",
       "    <tr>\n",
       "      <th>T284725</th>\n",
       "      <td>0</td>\n",
       "    </tr>\n",
       "    <tr>\n",
       "      <th>T284726</th>\n",
       "      <td>0</td>\n",
       "    </tr>\n",
       "    <tr>\n",
       "      <th>T284727</th>\n",
       "      <td>0</td>\n",
       "    </tr>\n",
       "    <tr>\n",
       "      <th>T284732</th>\n",
       "      <td>0</td>\n",
       "    </tr>\n",
       "    <tr>\n",
       "      <th>T284735</th>\n",
       "      <td>0</td>\n",
       "    </tr>\n",
       "    <tr>\n",
       "      <th>T284738</th>\n",
       "      <td>0</td>\n",
       "    </tr>\n",
       "    <tr>\n",
       "      <th>T284740</th>\n",
       "      <td>0</td>\n",
       "    </tr>\n",
       "    <tr>\n",
       "      <th>T284742</th>\n",
       "      <td>0</td>\n",
       "    </tr>\n",
       "    <tr>\n",
       "      <th>T284748</th>\n",
       "      <td>0</td>\n",
       "    </tr>\n",
       "    <tr>\n",
       "      <th>T284753</th>\n",
       "      <td>0</td>\n",
       "    </tr>\n",
       "    <tr>\n",
       "      <th>T284755</th>\n",
       "      <td>0</td>\n",
       "    </tr>\n",
       "    <tr>\n",
       "      <th>T284760</th>\n",
       "      <td>0</td>\n",
       "    </tr>\n",
       "    <tr>\n",
       "      <th>T284766</th>\n",
       "      <td>0</td>\n",
       "    </tr>\n",
       "    <tr>\n",
       "      <th>T284768</th>\n",
       "      <td>0</td>\n",
       "    </tr>\n",
       "    <tr>\n",
       "      <th>T284771</th>\n",
       "      <td>0</td>\n",
       "    </tr>\n",
       "    <tr>\n",
       "      <th>T284772</th>\n",
       "      <td>0</td>\n",
       "    </tr>\n",
       "    <tr>\n",
       "      <th>T284775</th>\n",
       "      <td>0</td>\n",
       "    </tr>\n",
       "    <tr>\n",
       "      <th>T284778</th>\n",
       "      <td>0</td>\n",
       "    </tr>\n",
       "    <tr>\n",
       "      <th>T284784</th>\n",
       "      <td>0</td>\n",
       "    </tr>\n",
       "    <tr>\n",
       "      <th>T284785</th>\n",
       "      <td>0</td>\n",
       "    </tr>\n",
       "    <tr>\n",
       "      <th>T284788</th>\n",
       "      <td>0</td>\n",
       "    </tr>\n",
       "    <tr>\n",
       "      <th>T284789</th>\n",
       "      <td>0</td>\n",
       "    </tr>\n",
       "    <tr>\n",
       "      <th>T284792</th>\n",
       "      <td>0</td>\n",
       "    </tr>\n",
       "    <tr>\n",
       "      <th>T284797</th>\n",
       "      <td>0</td>\n",
       "    </tr>\n",
       "    <tr>\n",
       "      <th>T284800</th>\n",
       "      <td>0</td>\n",
       "    </tr>\n",
       "    <tr>\n",
       "      <th>T284802</th>\n",
       "      <td>0</td>\n",
       "    </tr>\n",
       "  </tbody>\n",
       "</table>\n",
       "<p>85443 rows × 1 columns</p>\n",
       "</div>"
      ],
      "text/plain": [
       "         Class\n",
       "T2           0\n",
       "T5           0\n",
       "T7           0\n",
       "T9           0\n",
       "T10          0\n",
       "T13          0\n",
       "T15          0\n",
       "T17          0\n",
       "T18          0\n",
       "T19          0\n",
       "T27          0\n",
       "T32          0\n",
       "T36          0\n",
       "T37          0\n",
       "T40          0\n",
       "T43          0\n",
       "T45          0\n",
       "T46          0\n",
       "T47          0\n",
       "T50          0\n",
       "T51          0\n",
       "T56          0\n",
       "T59          0\n",
       "T64          0\n",
       "T66          0\n",
       "T67          0\n",
       "T68          0\n",
       "T69          0\n",
       "T71          0\n",
       "T72          0\n",
       "...        ...\n",
       "T284703      0\n",
       "T284704      0\n",
       "T284706      0\n",
       "T284721      0\n",
       "T284725      0\n",
       "T284726      0\n",
       "T284727      0\n",
       "T284732      0\n",
       "T284735      0\n",
       "T284738      0\n",
       "T284740      0\n",
       "T284742      0\n",
       "T284748      0\n",
       "T284753      0\n",
       "T284755      0\n",
       "T284760      0\n",
       "T284766      0\n",
       "T284768      0\n",
       "T284771      0\n",
       "T284772      0\n",
       "T284775      0\n",
       "T284778      0\n",
       "T284784      0\n",
       "T284785      0\n",
       "T284788      0\n",
       "T284789      0\n",
       "T284792      0\n",
       "T284797      0\n",
       "T284800      0\n",
       "T284802      0\n",
       "\n",
       "[85443 rows x 1 columns]"
      ]
     },
     "execution_count": 120,
     "metadata": {},
     "output_type": "execute_result"
    }
   ],
   "source": [
    "my_solution = pd.DataFrame(y_pred_test, TXKEY, columns = [\"Class\"])\n",
    "my_solution"
   ]
  },
  {
   "cell_type": "code",
   "execution_count": 121,
   "metadata": {
    "collapsed": true
   },
   "outputs": [],
   "source": [
    "my_solution.to_csv(\"Ans/solution_14.csv\", index_label = [\"TXKEY\"])"
   ]
  },
  {
   "cell_type": "code",
   "execution_count": null,
   "metadata": {
    "collapsed": true
   },
   "outputs": [],
   "source": []
  }
 ],
 "metadata": {
  "kernelspec": {
   "display_name": "Python 3",
   "language": "python",
   "name": "python3"
  },
  "language_info": {
   "codemirror_mode": {
    "name": "ipython",
    "version": 3
   },
   "file_extension": ".py",
   "mimetype": "text/x-python",
   "name": "python",
   "nbconvert_exporter": "python",
   "pygments_lexer": "ipython3",
   "version": "3.6.4"
  }
 },
 "nbformat": 4,
 "nbformat_minor": 2
}
